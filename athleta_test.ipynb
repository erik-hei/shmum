{
 "cells": [
  {
   "cell_type": "code",
   "execution_count": 9,
   "metadata": {},
   "outputs": [],
   "source": [
    "from grab_measurements import *\n",
    "from scraper import *"
   ]
  },
  {
   "cell_type": "code",
   "execution_count": 10,
   "metadata": {},
   "outputs": [],
   "source": [
    "def to_scalar(height):\n",
    "    return height['ft'] + height['in'] / 12"
   ]
  },
  {
   "cell_type": "code",
   "execution_count": 11,
   "metadata": {},
   "outputs": [],
   "source": [
    "def get_similar_reviews(pid, my_measurements, error):\n",
    "    q1 = scrape_athleta(pid)['q1']\n",
    "    all_reviews = {}\n",
    "    similar_heights = []\n",
    "    similar_weights = []\n",
    "    for review in q1:\n",
    "        rating = review['Rating']\n",
    "        text = review['ReviewText']\n",
    "        review_id = review['Id']\n",
    "        all_reviews[review_id] = {'rating' : rating, 'text' : text}\n",
    "        weight = get_weight(text)\n",
    "        height = get_height(text)\n",
    "        if not weight == None and abs(weight - my_measurements['weight']) <= error['weight']:\n",
    "            similar_weights.append(review_id)\n",
    "        if not None in height.values() and abs(to_scalar(my_measurements['height']) - to_scalar(height))  <= to_scalar(error['height']):\n",
    "            similar_heights.append(review_id)\n",
    "    return (similar_heights, similar_weights, all_reviews)"
   ]
  },
  {
   "cell_type": "code",
   "execution_count": 16,
   "metadata": {},
   "outputs": [],
   "source": [
    "error = {\n",
    "    'height' : {'ft' : 0, 'in' : 2},\n",
    "    'weight' : 5\n",
    "}\n",
    "\n",
    "my_measurements = {\n",
    "    'height' : {'ft' : 5, 'in' : 2},\n",
    "    'weight' : 120\n",
    "}\n",
    "\n",
    "pid = 531321002\n",
    "\n",
    "height, weight, all_reviews = get_similar_reviews(pid, my_measurements, error)\n",
    "both = set(height) & set(weight)"
   ]
  },
  {
   "cell_type": "code",
   "execution_count": 17,
   "metadata": {},
   "outputs": [
    {
     "name": "stdout",
     "output_type": "stream",
     "text": [
      "I thought this might be lighter blue in person than online, but they were a little bit darker in person - which I loved! I am 5’ 2” 120 lbs and the xs petite fit perfect.\n",
      "\n",
      "\n",
      "I love the fabric of these and have two pairs of the original style.  The waist is higher and tighter on these which I don’t love for active yoga practice; they roll down and squeeze too much.  I’ll use these more for walking, errands, lounging, etc.   I’m 5’-2” 124 lbs and wear the petite small.\n",
      "\n",
      "\n",
      "I’m 5’3 115 and bought a size XS. These leggings do make my 40 year old butt look amazing and are super soft, BUT the waist rolls down non stop!! I thought I could get over it but after 1 day I was super annoyed!! If the waist stayed up these would have been the best leggings ever!!\n",
      "\n",
      "\n",
      "They are super comfy! The only reason I didn’t give 5 stars was because the bottom is a bit loose, but nothing too noticeable. The fabric is heavenly. I love the pockets and wish I could have ordered the full length tights with pockets . 5’2, 125lbs with quarantine pooch and ordered a Medium.\n",
      "\n",
      "\n",
      "Love these pants. They fit like a glove and don’t budge.  The pockets are a plus and I love the blue color.   I’m 5’2” 120 lbs and SP fits great.\n",
      "\n",
      "\n",
      "These may be my new favorite tights. I am 5'3\" 125 lbs, usually a small-medium with a straight-ish figure, I had to size up to a M and they fit perfectly. The S was too tight around the waist as the new waist band is thick and a bit stiff so not a lot of give. The small fit everywhere but gave me muffin top. I love the material, it's so soft and forms to your body. I absolutely adore the new V seams at the butt, very flattering. Just wish they came in more dark colors, like a dark deep red or something would be great, or dark patterns like stripes. The lighter colors show all my lumps but the black is perfect.\n",
      "\n",
      "\n",
      "Powervita material is perfect and the compression feels great. These leggings are appropriate for yoga and casual wear and I feel confident wearing them. For reference I am 5’4” and weigh around 118lbs,  I ordered a size Small and they fit great. I bought 2 pair and could wear them everyday so I hope they hold up well to multiple washings!\n",
      "\n",
      "\n",
      "These leggings come in great colors, are easy to wear and have a nice seamless waistband. That being said, the stitching needs some work. The new pockets are nice, but are sewn in a way that makes the thigh and bum area very tight. I had to size up from my usual size. For reference I am 5’2”, 120lbs and I got a small (usually an XS). The waistband is comfortable in this size, but does roll over during workouts. If they fix the tightness issues and the rolling band these leggings will be great. Good concept that will be great with a little work!\n",
      "\n",
      "\n",
      "Very happy with this recent purchase.  These tights hold everything where it should be and are a great color too.  \r\n",
      "5’3” 115 lbs.  ordered the small.\n",
      "\n",
      "\n",
      "I am 5'2 and about 115lbs. I ordered the XSP in the navy and olive of these leggings. I love that athleta offers many length options so that I can actually find leggings the right length for my height. I'm honestly willing to spend more to get a legging that won't bunch at my ankles. I've been wearing these to workout in for around four months and have no complaints. They are on the more \"buttery soft\" side of fabric versus a slicker feel, I still like them but I know some people prefer a certain texture.\n",
      "\n",
      "\n",
      "Love the new Stash Pocket style in any color. Black is my favorite in all styles. 125 lbs and 5’4” in a size Regular XS (snugger fit) or also Petite Small.\n",
      "\n",
      "\n",
      "I’m ordering several more pairs of these tights because I love them oh-so-much. The material and fit gives just the right amount of coverage, support, and stretch for my everyday runs, yoga sessions, and other miscellaneous outdoor shenanigans. These tights hold there shape all day!  I’m 5’3”, 118 lb. The small in the regular length fits perfect, hitting a couple of inches above my ankle bone. Highly recommend!\n",
      "\n",
      "\n",
      "I am loving these pants! They are so buttery soft, feels like you almost don't even have pants on. They are definitely squat proof and the quick dry is effective! Great purchase! I am 5'4\" 120lbs and got the XS and they fit perfect.\n",
      "\n",
      "\n",
      "I’m 5’3” and 125 pounds and an XS fits perfectly. These are just as amazing as salutation tights always have been, and the new waistband feels fantastic!\n",
      "\n",
      "\n",
      "I purchased a pair of the updated salutation stash pocket II and I have to say I am a bit disappointed after loving the original for some time. To start with, they changed the seaming down the side where the pocket is. The stitching ends in the middle of the thigh instead of having the line flow down the side of the leg. This leaves a weird \"dimple or pucker\" line in the middle of the thigh. Also, the \"V\" in the rear gives a bit of a wedgie and I felt myself constantly pulling them down in the crotch to avoid the dreaded \"camel toe\". It's a shame because I still love the feel of the fabric, and they came out with some beautiful new colors but I scrambled to the store to purchase what they had left of the original version in my size which was only black and navy. For reference I'm 5'3, 115 and usually wear a 7/8 leg or petite XS.\n",
      "\n",
      "\n",
      "I am 5'4\", 120lbs, and purchased an XS. I am SO in love with these leggings, they are incredibly soft and comfortable while remaining functional for exercising! These leggings have a great amount of compression but are still very stretchy. The waistband comes a little above my belly button--it's flattering and helps flatten out the tummy a bit. It stays up very well while running but doesn't squeeze too tight. The pockets on the side are convenient for holding my phone while I walk around the neighborhood (I have not tried exercising with my phone in the pockets). The iron blue color is beautiful and looks great with grey, white, and black shirts. So far I have used them for running and weight lifting (squat proof!) but I suspect they'd be good for yoga too. Will definitely be purchasing other colors in the future!\n",
      "\n",
      "\n",
      "These are the updated version - I know in this version the band at the top is completely flat, which is nice. I feel these fit nicer than the last version. I’m 5’3 120 #s and wear the XS.\n",
      "\n",
      "\n",
      "I am 5'4\" and weigh 123 pounds. these tights are the best tights I've ever put on my legs. They feel like butter, they are so smooth and so comfy. They shape my butt perfectly. It feels as if I am naked. My boyfriend loves me in these tights.\n",
      "\n",
      "\n",
      "These are the softest, most comfortable leggings yet. The stash pocket is perfect for my phone. I’m 5’4 and weigh 120 pounds. I was debating between the S and XS. I went with the Small and couldn’t be happier.  Since I’m now working from home, these have been my go to leggings. I’m already thinking about getting another pair.\n",
      "\n",
      "\n",
      "SUPER BUMMED about the new Salutations.  I have been buying from Athleta for the last 5 years (Chaturanga, Salutation, Elation), until the last year or so when they started to change the fit of the leggings.  Though I read the reviews of other buyers experiencing the same issues, I still purchased 2 Salutation Stash Pocket II and have to return them both.  I am 5'2\", 118lbs and wear a size SM for reference. \r\n",
      "  The waistband on these fits different, the fabric is different and the material @ the waist also 'folds' down unlike the traditional Salutations.   I highly recommend trying them on in store if you can....\r\n",
      " Athleta, BRING BACK THE OG SALUTATIONS!!!!!!\n",
      "\n",
      "\n"
     ]
    }
   ],
   "source": [
    "for rid in both:\n",
    "    print(all_reviews[rid]['text'])\n",
    "    print('\\n')"
   ]
  }
 ],
 "metadata": {
  "kernelspec": {
   "display_name": "Python 3",
   "language": "python",
   "name": "python3"
  },
  "language_info": {
   "codemirror_mode": {
    "name": "ipython",
    "version": 3
   },
   "file_extension": ".py",
   "mimetype": "text/x-python",
   "name": "python",
   "nbconvert_exporter": "python",
   "pygments_lexer": "ipython3",
   "version": "3.7.3"
  }
 },
 "nbformat": 4,
 "nbformat_minor": 2
}
